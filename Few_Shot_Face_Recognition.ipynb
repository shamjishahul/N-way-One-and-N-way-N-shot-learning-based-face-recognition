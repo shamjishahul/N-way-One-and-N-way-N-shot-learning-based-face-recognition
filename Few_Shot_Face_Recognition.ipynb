{
  "nbformat": 4,
  "nbformat_minor": 0,
  "metadata": {
    "accelerator": "GPU",
    "colab": {
      "name": "Few Shot Face Recognition",
      "provenance": [],
      "collapsed_sections": []
    },
    "kernelspec": {
      "display_name": "Python 3",
      "name": "python3"
    },
    "language_info": {
      "name": "python"
    },
    "widgets": {
      "application/vnd.jupyter.widget-state+json": {
        "5f64e2a2f4a34af89e49e0390b9cc0fb": {
          "model_module": "@jupyter-widgets/controls",
          "model_name": "HBoxModel",
          "state": {
            "_view_name": "HBoxView",
            "_dom_classes": [],
            "_model_name": "HBoxModel",
            "_view_module": "@jupyter-widgets/controls",
            "_model_module_version": "1.5.0",
            "_view_count": null,
            "_view_module_version": "1.5.0",
            "box_style": "",
            "layout": "IPY_MODEL_9f380a7ded254bb186fa31f92b06c9b9",
            "_model_module": "@jupyter-widgets/controls",
            "children": [
              "IPY_MODEL_0ea838b300aa4ee299393851e1dcb893",
              "IPY_MODEL_f8b86b275b9f477aa36e379d349dec41"
            ]
          }
        },
        "9f380a7ded254bb186fa31f92b06c9b9": {
          "model_module": "@jupyter-widgets/base",
          "model_name": "LayoutModel",
          "state": {
            "_view_name": "LayoutView",
            "grid_template_rows": null,
            "right": null,
            "justify_content": null,
            "_view_module": "@jupyter-widgets/base",
            "overflow": null,
            "_model_module_version": "1.2.0",
            "_view_count": null,
            "flex_flow": null,
            "width": null,
            "min_width": null,
            "border": null,
            "align_items": null,
            "bottom": null,
            "_model_module": "@jupyter-widgets/base",
            "top": null,
            "grid_column": null,
            "overflow_y": null,
            "overflow_x": null,
            "grid_auto_flow": null,
            "grid_area": null,
            "grid_template_columns": null,
            "flex": null,
            "_model_name": "LayoutModel",
            "justify_items": null,
            "grid_row": null,
            "max_height": null,
            "align_content": null,
            "visibility": null,
            "align_self": null,
            "height": null,
            "min_height": null,
            "padding": null,
            "grid_auto_rows": null,
            "grid_gap": null,
            "max_width": null,
            "order": null,
            "_view_module_version": "1.2.0",
            "grid_template_areas": null,
            "object_position": null,
            "object_fit": null,
            "grid_auto_columns": null,
            "margin": null,
            "display": null,
            "left": null
          }
        },
        "0ea838b300aa4ee299393851e1dcb893": {
          "model_module": "@jupyter-widgets/controls",
          "model_name": "FloatProgressModel",
          "state": {
            "_view_name": "ProgressView",
            "style": "IPY_MODEL_af102eb05118495aa8947fc2f725b083",
            "_dom_classes": [],
            "description": "Epoch 1 train: 100%",
            "_model_name": "FloatProgressModel",
            "bar_style": "success",
            "max": 2000,
            "_view_module": "@jupyter-widgets/controls",
            "_model_module_version": "1.5.0",
            "value": 2000,
            "_view_count": null,
            "_view_module_version": "1.5.0",
            "orientation": "horizontal",
            "min": 0,
            "description_tooltip": null,
            "_model_module": "@jupyter-widgets/controls",
            "layout": "IPY_MODEL_c814aab89cc849568e6c631a80d49965"
          }
        },
        "f8b86b275b9f477aa36e379d349dec41": {
          "model_module": "@jupyter-widgets/controls",
          "model_name": "HTMLModel",
          "state": {
            "_view_name": "HTMLView",
            "style": "IPY_MODEL_c54597f2cbcf42ada4911303eb09e6f5",
            "_dom_classes": [],
            "description": "",
            "_model_name": "HTMLModel",
            "placeholder": "​",
            "_view_module": "@jupyter-widgets/controls",
            "_model_module_version": "1.5.0",
            "value": " 2000/2000 [01:20&lt;00:00, 24.89it/s]",
            "_view_count": null,
            "_view_module_version": "1.5.0",
            "description_tooltip": null,
            "_model_module": "@jupyter-widgets/controls",
            "layout": "IPY_MODEL_3baaf71d0e1140cfaf890ad6dc0ed44c"
          }
        },
        "af102eb05118495aa8947fc2f725b083": {
          "model_module": "@jupyter-widgets/controls",
          "model_name": "ProgressStyleModel",
          "state": {
            "_view_name": "StyleView",
            "_model_name": "ProgressStyleModel",
            "description_width": "initial",
            "_view_module": "@jupyter-widgets/base",
            "_model_module_version": "1.5.0",
            "_view_count": null,
            "_view_module_version": "1.2.0",
            "bar_color": null,
            "_model_module": "@jupyter-widgets/controls"
          }
        },
        "c814aab89cc849568e6c631a80d49965": {
          "model_module": "@jupyter-widgets/base",
          "model_name": "LayoutModel",
          "state": {
            "_view_name": "LayoutView",
            "grid_template_rows": null,
            "right": null,
            "justify_content": null,
            "_view_module": "@jupyter-widgets/base",
            "overflow": null,
            "_model_module_version": "1.2.0",
            "_view_count": null,
            "flex_flow": null,
            "width": null,
            "min_width": null,
            "border": null,
            "align_items": null,
            "bottom": null,
            "_model_module": "@jupyter-widgets/base",
            "top": null,
            "grid_column": null,
            "overflow_y": null,
            "overflow_x": null,
            "grid_auto_flow": null,
            "grid_area": null,
            "grid_template_columns": null,
            "flex": null,
            "_model_name": "LayoutModel",
            "justify_items": null,
            "grid_row": null,
            "max_height": null,
            "align_content": null,
            "visibility": null,
            "align_self": null,
            "height": null,
            "min_height": null,
            "padding": null,
            "grid_auto_rows": null,
            "grid_gap": null,
            "max_width": null,
            "order": null,
            "_view_module_version": "1.2.0",
            "grid_template_areas": null,
            "object_position": null,
            "object_fit": null,
            "grid_auto_columns": null,
            "margin": null,
            "display": null,
            "left": null
          }
        },
        "c54597f2cbcf42ada4911303eb09e6f5": {
          "model_module": "@jupyter-widgets/controls",
          "model_name": "DescriptionStyleModel",
          "state": {
            "_view_name": "StyleView",
            "_model_name": "DescriptionStyleModel",
            "description_width": "",
            "_view_module": "@jupyter-widgets/base",
            "_model_module_version": "1.5.0",
            "_view_count": null,
            "_view_module_version": "1.2.0",
            "_model_module": "@jupyter-widgets/controls"
          }
        },
        "3baaf71d0e1140cfaf890ad6dc0ed44c": {
          "model_module": "@jupyter-widgets/base",
          "model_name": "LayoutModel",
          "state": {
            "_view_name": "LayoutView",
            "grid_template_rows": null,
            "right": null,
            "justify_content": null,
            "_view_module": "@jupyter-widgets/base",
            "overflow": null,
            "_model_module_version": "1.2.0",
            "_view_count": null,
            "flex_flow": null,
            "width": null,
            "min_width": null,
            "border": null,
            "align_items": null,
            "bottom": null,
            "_model_module": "@jupyter-widgets/base",
            "top": null,
            "grid_column": null,
            "overflow_y": null,
            "overflow_x": null,
            "grid_auto_flow": null,
            "grid_area": null,
            "grid_template_columns": null,
            "flex": null,
            "_model_name": "LayoutModel",
            "justify_items": null,
            "grid_row": null,
            "max_height": null,
            "align_content": null,
            "visibility": null,
            "align_self": null,
            "height": null,
            "min_height": null,
            "padding": null,
            "grid_auto_rows": null,
            "grid_gap": null,
            "max_width": null,
            "order": null,
            "_view_module_version": "1.2.0",
            "grid_template_areas": null,
            "object_position": null,
            "object_fit": null,
            "grid_auto_columns": null,
            "margin": null,
            "display": null,
            "left": null
          }
        },
        "2ad554ec32a34af393cd60eaafde7d4b": {
          "model_module": "@jupyter-widgets/controls",
          "model_name": "HBoxModel",
          "state": {
            "_view_name": "HBoxView",
            "_dom_classes": [],
            "_model_name": "HBoxModel",
            "_view_module": "@jupyter-widgets/controls",
            "_model_module_version": "1.5.0",
            "_view_count": null,
            "_view_module_version": "1.5.0",
            "box_style": "",
            "layout": "IPY_MODEL_dca77cd9739c407da1352b407ea6de20",
            "_model_module": "@jupyter-widgets/controls",
            "children": [
              "IPY_MODEL_725aa2a02e9a43e4bf8289e5ad1ccea7",
              "IPY_MODEL_91a4b2adab074569af52b3e157cf3cd6"
            ]
          }
        },
        "dca77cd9739c407da1352b407ea6de20": {
          "model_module": "@jupyter-widgets/base",
          "model_name": "LayoutModel",
          "state": {
            "_view_name": "LayoutView",
            "grid_template_rows": null,
            "right": null,
            "justify_content": null,
            "_view_module": "@jupyter-widgets/base",
            "overflow": null,
            "_model_module_version": "1.2.0",
            "_view_count": null,
            "flex_flow": null,
            "width": null,
            "min_width": null,
            "border": null,
            "align_items": null,
            "bottom": null,
            "_model_module": "@jupyter-widgets/base",
            "top": null,
            "grid_column": null,
            "overflow_y": null,
            "overflow_x": null,
            "grid_auto_flow": null,
            "grid_area": null,
            "grid_template_columns": null,
            "flex": null,
            "_model_name": "LayoutModel",
            "justify_items": null,
            "grid_row": null,
            "max_height": null,
            "align_content": null,
            "visibility": null,
            "align_self": null,
            "height": null,
            "min_height": null,
            "padding": null,
            "grid_auto_rows": null,
            "grid_gap": null,
            "max_width": null,
            "order": null,
            "_view_module_version": "1.2.0",
            "grid_template_areas": null,
            "object_position": null,
            "object_fit": null,
            "grid_auto_columns": null,
            "margin": null,
            "display": null,
            "left": null
          }
        },
        "725aa2a02e9a43e4bf8289e5ad1ccea7": {
          "model_module": "@jupyter-widgets/controls",
          "model_name": "FloatProgressModel",
          "state": {
            "_view_name": "ProgressView",
            "style": "IPY_MODEL_d392967e76aa482ebfb964412aeaacde",
            "_dom_classes": [],
            "description": "Epoch 2 train: 100%",
            "_model_name": "FloatProgressModel",
            "bar_style": "success",
            "max": 2000,
            "_view_module": "@jupyter-widgets/controls",
            "_model_module_version": "1.5.0",
            "value": 2000,
            "_view_count": null,
            "_view_module_version": "1.5.0",
            "orientation": "horizontal",
            "min": 0,
            "description_tooltip": null,
            "_model_module": "@jupyter-widgets/controls",
            "layout": "IPY_MODEL_9c2a3d523caf40a7990d924b20d5ced2"
          }
        },
        "91a4b2adab074569af52b3e157cf3cd6": {
          "model_module": "@jupyter-widgets/controls",
          "model_name": "HTMLModel",
          "state": {
            "_view_name": "HTMLView",
            "style": "IPY_MODEL_59a7486668954e8eace9308798c86a3f",
            "_dom_classes": [],
            "description": "",
            "_model_name": "HTMLModel",
            "placeholder": "​",
            "_view_module": "@jupyter-widgets/controls",
            "_model_module_version": "1.5.0",
            "value": " 2000/2000 [01:19&lt;00:00, 25.19it/s]",
            "_view_count": null,
            "_view_module_version": "1.5.0",
            "description_tooltip": null,
            "_model_module": "@jupyter-widgets/controls",
            "layout": "IPY_MODEL_1323097e7fb044c39a0124e430fd631a"
          }
        },
        "d392967e76aa482ebfb964412aeaacde": {
          "model_module": "@jupyter-widgets/controls",
          "model_name": "ProgressStyleModel",
          "state": {
            "_view_name": "StyleView",
            "_model_name": "ProgressStyleModel",
            "description_width": "initial",
            "_view_module": "@jupyter-widgets/base",
            "_model_module_version": "1.5.0",
            "_view_count": null,
            "_view_module_version": "1.2.0",
            "bar_color": null,
            "_model_module": "@jupyter-widgets/controls"
          }
        },
        "9c2a3d523caf40a7990d924b20d5ced2": {
          "model_module": "@jupyter-widgets/base",
          "model_name": "LayoutModel",
          "state": {
            "_view_name": "LayoutView",
            "grid_template_rows": null,
            "right": null,
            "justify_content": null,
            "_view_module": "@jupyter-widgets/base",
            "overflow": null,
            "_model_module_version": "1.2.0",
            "_view_count": null,
            "flex_flow": null,
            "width": null,
            "min_width": null,
            "border": null,
            "align_items": null,
            "bottom": null,
            "_model_module": "@jupyter-widgets/base",
            "top": null,
            "grid_column": null,
            "overflow_y": null,
            "overflow_x": null,
            "grid_auto_flow": null,
            "grid_area": null,
            "grid_template_columns": null,
            "flex": null,
            "_model_name": "LayoutModel",
            "justify_items": null,
            "grid_row": null,
            "max_height": null,
            "align_content": null,
            "visibility": null,
            "align_self": null,
            "height": null,
            "min_height": null,
            "padding": null,
            "grid_auto_rows": null,
            "grid_gap": null,
            "max_width": null,
            "order": null,
            "_view_module_version": "1.2.0",
            "grid_template_areas": null,
            "object_position": null,
            "object_fit": null,
            "grid_auto_columns": null,
            "margin": null,
            "display": null,
            "left": null
          }
        },
        "59a7486668954e8eace9308798c86a3f": {
          "model_module": "@jupyter-widgets/controls",
          "model_name": "DescriptionStyleModel",
          "state": {
            "_view_name": "StyleView",
            "_model_name": "DescriptionStyleModel",
            "description_width": "",
            "_view_module": "@jupyter-widgets/base",
            "_model_module_version": "1.5.0",
            "_view_count": null,
            "_view_module_version": "1.2.0",
            "_model_module": "@jupyter-widgets/controls"
          }
        },
        "1323097e7fb044c39a0124e430fd631a": {
          "model_module": "@jupyter-widgets/base",
          "model_name": "LayoutModel",
          "state": {
            "_view_name": "LayoutView",
            "grid_template_rows": null,
            "right": null,
            "justify_content": null,
            "_view_module": "@jupyter-widgets/base",
            "overflow": null,
            "_model_module_version": "1.2.0",
            "_view_count": null,
            "flex_flow": null,
            "width": null,
            "min_width": null,
            "border": null,
            "align_items": null,
            "bottom": null,
            "_model_module": "@jupyter-widgets/base",
            "top": null,
            "grid_column": null,
            "overflow_y": null,
            "overflow_x": null,
            "grid_auto_flow": null,
            "grid_area": null,
            "grid_template_columns": null,
            "flex": null,
            "_model_name": "LayoutModel",
            "justify_items": null,
            "grid_row": null,
            "max_height": null,
            "align_content": null,
            "visibility": null,
            "align_self": null,
            "height": null,
            "min_height": null,
            "padding": null,
            "grid_auto_rows": null,
            "grid_gap": null,
            "max_width": null,
            "order": null,
            "_view_module_version": "1.2.0",
            "grid_template_areas": null,
            "object_position": null,
            "object_fit": null,
            "grid_auto_columns": null,
            "margin": null,
            "display": null,
            "left": null
          }
        },
        "b1d2b87d764f46a29b0090bbbca0ea4e": {
          "model_module": "@jupyter-widgets/controls",
          "model_name": "HBoxModel",
          "state": {
            "_view_name": "HBoxView",
            "_dom_classes": [],
            "_model_name": "HBoxModel",
            "_view_module": "@jupyter-widgets/controls",
            "_model_module_version": "1.5.0",
            "_view_count": null,
            "_view_module_version": "1.5.0",
            "box_style": "",
            "layout": "IPY_MODEL_054c18427f62431dbbe7119f7be11b48",
            "_model_module": "@jupyter-widgets/controls",
            "children": [
              "IPY_MODEL_251784e9f9744d13a8d7827ff9769420",
              "IPY_MODEL_46e1937c41284412abe464962a9904d2"
            ]
          }
        },
        "054c18427f62431dbbe7119f7be11b48": {
          "model_module": "@jupyter-widgets/base",
          "model_name": "LayoutModel",
          "state": {
            "_view_name": "LayoutView",
            "grid_template_rows": null,
            "right": null,
            "justify_content": null,
            "_view_module": "@jupyter-widgets/base",
            "overflow": null,
            "_model_module_version": "1.2.0",
            "_view_count": null,
            "flex_flow": null,
            "width": null,
            "min_width": null,
            "border": null,
            "align_items": null,
            "bottom": null,
            "_model_module": "@jupyter-widgets/base",
            "top": null,
            "grid_column": null,
            "overflow_y": null,
            "overflow_x": null,
            "grid_auto_flow": null,
            "grid_area": null,
            "grid_template_columns": null,
            "flex": null,
            "_model_name": "LayoutModel",
            "justify_items": null,
            "grid_row": null,
            "max_height": null,
            "align_content": null,
            "visibility": null,
            "align_self": null,
            "height": null,
            "min_height": null,
            "padding": null,
            "grid_auto_rows": null,
            "grid_gap": null,
            "max_width": null,
            "order": null,
            "_view_module_version": "1.2.0",
            "grid_template_areas": null,
            "object_position": null,
            "object_fit": null,
            "grid_auto_columns": null,
            "margin": null,
            "display": null,
            "left": null
          }
        },
        "251784e9f9744d13a8d7827ff9769420": {
          "model_module": "@jupyter-widgets/controls",
          "model_name": "FloatProgressModel",
          "state": {
            "_view_name": "ProgressView",
            "style": "IPY_MODEL_bac6e96081ae4ac3bf938c1839613045",
            "_dom_classes": [],
            "description": "Epoch 3 train: 100%",
            "_model_name": "FloatProgressModel",
            "bar_style": "success",
            "max": 2000,
            "_view_module": "@jupyter-widgets/controls",
            "_model_module_version": "1.5.0",
            "value": 2000,
            "_view_count": null,
            "_view_module_version": "1.5.0",
            "orientation": "horizontal",
            "min": 0,
            "description_tooltip": null,
            "_model_module": "@jupyter-widgets/controls",
            "layout": "IPY_MODEL_c5fbe41ffacb49a9b80683a31d538625"
          }
        },
        "46e1937c41284412abe464962a9904d2": {
          "model_module": "@jupyter-widgets/controls",
          "model_name": "HTMLModel",
          "state": {
            "_view_name": "HTMLView",
            "style": "IPY_MODEL_568098cdd52145a6bbc27768bc2128e6",
            "_dom_classes": [],
            "description": "",
            "_model_name": "HTMLModel",
            "placeholder": "​",
            "_view_module": "@jupyter-widgets/controls",
            "_model_module_version": "1.5.0",
            "value": " 2000/2000 [01:19&lt;00:00, 25.28it/s]",
            "_view_count": null,
            "_view_module_version": "1.5.0",
            "description_tooltip": null,
            "_model_module": "@jupyter-widgets/controls",
            "layout": "IPY_MODEL_97c100bed7e24ed88f2dae1b303f69db"
          }
        },
        "bac6e96081ae4ac3bf938c1839613045": {
          "model_module": "@jupyter-widgets/controls",
          "model_name": "ProgressStyleModel",
          "state": {
            "_view_name": "StyleView",
            "_model_name": "ProgressStyleModel",
            "description_width": "initial",
            "_view_module": "@jupyter-widgets/base",
            "_model_module_version": "1.5.0",
            "_view_count": null,
            "_view_module_version": "1.2.0",
            "bar_color": null,
            "_model_module": "@jupyter-widgets/controls"
          }
        },
        "c5fbe41ffacb49a9b80683a31d538625": {
          "model_module": "@jupyter-widgets/base",
          "model_name": "LayoutModel",
          "state": {
            "_view_name": "LayoutView",
            "grid_template_rows": null,
            "right": null,
            "justify_content": null,
            "_view_module": "@jupyter-widgets/base",
            "overflow": null,
            "_model_module_version": "1.2.0",
            "_view_count": null,
            "flex_flow": null,
            "width": null,
            "min_width": null,
            "border": null,
            "align_items": null,
            "bottom": null,
            "_model_module": "@jupyter-widgets/base",
            "top": null,
            "grid_column": null,
            "overflow_y": null,
            "overflow_x": null,
            "grid_auto_flow": null,
            "grid_area": null,
            "grid_template_columns": null,
            "flex": null,
            "_model_name": "LayoutModel",
            "justify_items": null,
            "grid_row": null,
            "max_height": null,
            "align_content": null,
            "visibility": null,
            "align_self": null,
            "height": null,
            "min_height": null,
            "padding": null,
            "grid_auto_rows": null,
            "grid_gap": null,
            "max_width": null,
            "order": null,
            "_view_module_version": "1.2.0",
            "grid_template_areas": null,
            "object_position": null,
            "object_fit": null,
            "grid_auto_columns": null,
            "margin": null,
            "display": null,
            "left": null
          }
        },
        "568098cdd52145a6bbc27768bc2128e6": {
          "model_module": "@jupyter-widgets/controls",
          "model_name": "DescriptionStyleModel",
          "state": {
            "_view_name": "StyleView",
            "_model_name": "DescriptionStyleModel",
            "description_width": "",
            "_view_module": "@jupyter-widgets/base",
            "_model_module_version": "1.5.0",
            "_view_count": null,
            "_view_module_version": "1.2.0",
            "_model_module": "@jupyter-widgets/controls"
          }
        },
        "97c100bed7e24ed88f2dae1b303f69db": {
          "model_module": "@jupyter-widgets/base",
          "model_name": "LayoutModel",
          "state": {
            "_view_name": "LayoutView",
            "grid_template_rows": null,
            "right": null,
            "justify_content": null,
            "_view_module": "@jupyter-widgets/base",
            "overflow": null,
            "_model_module_version": "1.2.0",
            "_view_count": null,
            "flex_flow": null,
            "width": null,
            "min_width": null,
            "border": null,
            "align_items": null,
            "bottom": null,
            "_model_module": "@jupyter-widgets/base",
            "top": null,
            "grid_column": null,
            "overflow_y": null,
            "overflow_x": null,
            "grid_auto_flow": null,
            "grid_area": null,
            "grid_template_columns": null,
            "flex": null,
            "_model_name": "LayoutModel",
            "justify_items": null,
            "grid_row": null,
            "max_height": null,
            "align_content": null,
            "visibility": null,
            "align_self": null,
            "height": null,
            "min_height": null,
            "padding": null,
            "grid_auto_rows": null,
            "grid_gap": null,
            "max_width": null,
            "order": null,
            "_view_module_version": "1.2.0",
            "grid_template_areas": null,
            "object_position": null,
            "object_fit": null,
            "grid_auto_columns": null,
            "margin": null,
            "display": null,
            "left": null
          }
        },
        "e5a9c27d077044599fa774f6dee4f61c": {
          "model_module": "@jupyter-widgets/controls",
          "model_name": "HBoxModel",
          "state": {
            "_view_name": "HBoxView",
            "_dom_classes": [],
            "_model_name": "HBoxModel",
            "_view_module": "@jupyter-widgets/controls",
            "_model_module_version": "1.5.0",
            "_view_count": null,
            "_view_module_version": "1.5.0",
            "box_style": "",
            "layout": "IPY_MODEL_14ca51803e1d4ec2b42ed18038e7b733",
            "_model_module": "@jupyter-widgets/controls",
            "children": [
              "IPY_MODEL_4e9bca7d61dc468b836e57eda55bf3ea",
              "IPY_MODEL_7483c539bf3445d9aaea6a1fe2a2b66b"
            ]
          }
        },
        "14ca51803e1d4ec2b42ed18038e7b733": {
          "model_module": "@jupyter-widgets/base",
          "model_name": "LayoutModel",
          "state": {
            "_view_name": "LayoutView",
            "grid_template_rows": null,
            "right": null,
            "justify_content": null,
            "_view_module": "@jupyter-widgets/base",
            "overflow": null,
            "_model_module_version": "1.2.0",
            "_view_count": null,
            "flex_flow": null,
            "width": null,
            "min_width": null,
            "border": null,
            "align_items": null,
            "bottom": null,
            "_model_module": "@jupyter-widgets/base",
            "top": null,
            "grid_column": null,
            "overflow_y": null,
            "overflow_x": null,
            "grid_auto_flow": null,
            "grid_area": null,
            "grid_template_columns": null,
            "flex": null,
            "_model_name": "LayoutModel",
            "justify_items": null,
            "grid_row": null,
            "max_height": null,
            "align_content": null,
            "visibility": null,
            "align_self": null,
            "height": null,
            "min_height": null,
            "padding": null,
            "grid_auto_rows": null,
            "grid_gap": null,
            "max_width": null,
            "order": null,
            "_view_module_version": "1.2.0",
            "grid_template_areas": null,
            "object_position": null,
            "object_fit": null,
            "grid_auto_columns": null,
            "margin": null,
            "display": null,
            "left": null
          }
        },
        "4e9bca7d61dc468b836e57eda55bf3ea": {
          "model_module": "@jupyter-widgets/controls",
          "model_name": "FloatProgressModel",
          "state": {
            "_view_name": "ProgressView",
            "style": "IPY_MODEL_56e395da0fac433a8b553086f8b1d30d",
            "_dom_classes": [],
            "description": "Epoch 4 train:  63%",
            "_model_name": "FloatProgressModel",
            "bar_style": "",
            "max": 2000,
            "_view_module": "@jupyter-widgets/controls",
            "_model_module_version": "1.5.0",
            "value": 1253,
            "_view_count": null,
            "_view_module_version": "1.5.0",
            "orientation": "horizontal",
            "min": 0,
            "description_tooltip": null,
            "_model_module": "@jupyter-widgets/controls",
            "layout": "IPY_MODEL_21377bf77bab454dac941e602d276baf"
          }
        },
        "7483c539bf3445d9aaea6a1fe2a2b66b": {
          "model_module": "@jupyter-widgets/controls",
          "model_name": "HTMLModel",
          "state": {
            "_view_name": "HTMLView",
            "style": "IPY_MODEL_a633e31b1dae4e578e50c1ab28d9116e",
            "_dom_classes": [],
            "description": "",
            "_model_name": "HTMLModel",
            "placeholder": "​",
            "_view_module": "@jupyter-widgets/controls",
            "_model_module_version": "1.5.0",
            "value": " 1253/2000 [00:49&lt;00:28, 25.81it/s]",
            "_view_count": null,
            "_view_module_version": "1.5.0",
            "description_tooltip": null,
            "_model_module": "@jupyter-widgets/controls",
            "layout": "IPY_MODEL_6cbd08abada742f3be578305d7990cd7"
          }
        },
        "56e395da0fac433a8b553086f8b1d30d": {
          "model_module": "@jupyter-widgets/controls",
          "model_name": "ProgressStyleModel",
          "state": {
            "_view_name": "StyleView",
            "_model_name": "ProgressStyleModel",
            "description_width": "initial",
            "_view_module": "@jupyter-widgets/base",
            "_model_module_version": "1.5.0",
            "_view_count": null,
            "_view_module_version": "1.2.0",
            "bar_color": null,
            "_model_module": "@jupyter-widgets/controls"
          }
        },
        "21377bf77bab454dac941e602d276baf": {
          "model_module": "@jupyter-widgets/base",
          "model_name": "LayoutModel",
          "state": {
            "_view_name": "LayoutView",
            "grid_template_rows": null,
            "right": null,
            "justify_content": null,
            "_view_module": "@jupyter-widgets/base",
            "overflow": null,
            "_model_module_version": "1.2.0",
            "_view_count": null,
            "flex_flow": null,
            "width": null,
            "min_width": null,
            "border": null,
            "align_items": null,
            "bottom": null,
            "_model_module": "@jupyter-widgets/base",
            "top": null,
            "grid_column": null,
            "overflow_y": null,
            "overflow_x": null,
            "grid_auto_flow": null,
            "grid_area": null,
            "grid_template_columns": null,
            "flex": null,
            "_model_name": "LayoutModel",
            "justify_items": null,
            "grid_row": null,
            "max_height": null,
            "align_content": null,
            "visibility": null,
            "align_self": null,
            "height": null,
            "min_height": null,
            "padding": null,
            "grid_auto_rows": null,
            "grid_gap": null,
            "max_width": null,
            "order": null,
            "_view_module_version": "1.2.0",
            "grid_template_areas": null,
            "object_position": null,
            "object_fit": null,
            "grid_auto_columns": null,
            "margin": null,
            "display": null,
            "left": null
          }
        },
        "a633e31b1dae4e578e50c1ab28d9116e": {
          "model_module": "@jupyter-widgets/controls",
          "model_name": "DescriptionStyleModel",
          "state": {
            "_view_name": "StyleView",
            "_model_name": "DescriptionStyleModel",
            "description_width": "",
            "_view_module": "@jupyter-widgets/base",
            "_model_module_version": "1.5.0",
            "_view_count": null,
            "_view_module_version": "1.2.0",
            "_model_module": "@jupyter-widgets/controls"
          }
        },
        "6cbd08abada742f3be578305d7990cd7": {
          "model_module": "@jupyter-widgets/base",
          "model_name": "LayoutModel",
          "state": {
            "_view_name": "LayoutView",
            "grid_template_rows": null,
            "right": null,
            "justify_content": null,
            "_view_module": "@jupyter-widgets/base",
            "overflow": null,
            "_model_module_version": "1.2.0",
            "_view_count": null,
            "flex_flow": null,
            "width": null,
            "min_width": null,
            "border": null,
            "align_items": null,
            "bottom": null,
            "_model_module": "@jupyter-widgets/base",
            "top": null,
            "grid_column": null,
            "overflow_y": null,
            "overflow_x": null,
            "grid_auto_flow": null,
            "grid_area": null,
            "grid_template_columns": null,
            "flex": null,
            "_model_name": "LayoutModel",
            "justify_items": null,
            "grid_row": null,
            "max_height": null,
            "align_content": null,
            "visibility": null,
            "align_self": null,
            "height": null,
            "min_height": null,
            "padding": null,
            "grid_auto_rows": null,
            "grid_gap": null,
            "max_width": null,
            "order": null,
            "_view_module_version": "1.2.0",
            "grid_template_areas": null,
            "object_position": null,
            "object_fit": null,
            "grid_auto_columns": null,
            "margin": null,
            "display": null,
            "left": null
          }
        }
      }
    }
  },
  "cells": [
    {
      "cell_type": "markdown",
      "metadata": {
        "id": "refFKQiXlHE2"
      },
      "source": [
        "## ***N-way One Shot Learning***"
      ]
    },
    {
      "cell_type": "code",
      "metadata": {
        "id": "2C6FZ5Hnj6GU"
      },
      "source": [
        "import sys\n",
        "import numpy as np\n",
        "import pandas as pd\n",
        "from imageio import imread\n",
        "import pickle\n",
        "import os\n",
        "import matplotlib.pyplot as plt\n",
        "%matplotlib inline\n",
        "\n",
        "import cv2\n",
        "import time\n",
        "\n",
        "import tensorflow as tf\n",
        "from keras.models import Sequential\n",
        "from keras.optimizers import Adam\n",
        "from keras.layers import Conv2D, ZeroPadding2D, Activation, Input, concatenate\n",
        "from keras.models import Model\n",
        "\n",
        "from keras.layers.normalization import BatchNormalization\n",
        "from keras.layers.pooling import MaxPooling2D\n",
        "from keras.layers.merge import Concatenate\n",
        "from keras.layers.core import Lambda, Flatten, Dense\n",
        "from keras.initializers import glorot_uniform\n",
        "\n",
        "from keras.engine.topology import Layer\n",
        "from keras.regularizers import l2\n",
        "from keras import backend as K\n",
        "\n",
        "from sklearn.utils import shuffle\n",
        "\n",
        "import numpy.random as rng"
      ],
      "execution_count": 54,
      "outputs": []
    },
    {
      "cell_type": "code",
      "metadata": {
        "id": "jd7nHT82j_ye"
      },
      "source": [
        "\n",
        "train_folder = \"/content/drive/MyDrive/Project(1)/omniglot/develop/\"\n",
        "val_folder = '/content/drive/MyDrive/Project(1)/omniglot/evaluate/'\n",
        "save_path = '/content/drive/MyDrive/datas/'"
      ],
      "execution_count": 55,
      "outputs": []
    },
    {
      "cell_type": "code",
      "metadata": {
        "colab": {
          "base_uri": "https://localhost:8080/"
        },
        "id": "OsMBoXOLkCRR",
        "outputId": "2bacb60c-48b2-4083-ab72-bc3c03061480"
      },
      "source": [
        "def loadimgs(path,n = 0):\n",
        "    '''\n",
        "\n",
        "    path => Path of train directory or test directory\n",
        "    '''\n",
        "    #dsize = (100, 100)\n",
        "\n",
        "# resize image\n",
        "\n",
        "    X=[]\n",
        "    y = []\n",
        "    cat_dict = {}\n",
        "    lang_dict = {}\n",
        "    curr_y = n\n",
        "    # we load every alphabet seperately so we can isolate them later\n",
        "    for alphabet in os.listdir(path):\n",
        "        print(\"loading alphabet: \" + alphabet)\n",
        "        lang_dict[alphabet] = [curr_y,None]\n",
        "        alphabet_path = os.path.join(path,alphabet)\n",
        "        # every letter/category has it's own column in the array, so  load seperately\n",
        "        for letter in os.listdir(alphabet_path):\n",
        "            cat_dict[curr_y] = (alphabet, letter)\n",
        "            category_images=[]\n",
        "            letter_path = os.path.join(alphabet_path, letter)\n",
        "            # read all the images in the current category\n",
        "            for filename in os.listdir(letter_path):\n",
        "                image_path = os.path.join(letter_path, filename)\n",
        "                #print(image_path)\n",
        "                image = cv2.imread(image_path, 0)\n",
        " \n",
        "                #print(np.array(img).shape)\n",
        "                category_images.append(np.array(image))\n",
        "                #print(np.array(category_images).shape)\n",
        "                y.append(curr_y)\n",
        "            try:\n",
        "                X.append(np.stack(category_images))\n",
        "            # edge case  - last one\n",
        "            except ValueError as e:\n",
        "                print(e)\n",
        "                print(\"error - category_images:\", category_images)\n",
        "            curr_y += 1\n",
        "            lang_dict[alphabet][1] = curr_y - 1\n",
        "    y = np.vstack(y)\n",
        "    X = np.stack(X)\n",
        "\n",
        "    return X,y,lang_dict\n",
        "from scipy import sparse\n",
        "X,y,c=loadimgs(train_folder)  \n",
        "\n",
        "with open(os.path.join(save_path,\"train.pickle\"), \"wb\") as f:\n",
        "    pickle.dump((X,c),f)"
      ],
      "execution_count": 56,
      "outputs": [
        {
          "output_type": "stream",
          "text": [
            "loading alphabet: orl(6)\n",
            "loading alphabet: orl(7)\n",
            "loading alphabet: orl(4)\n",
            "loading alphabet: orl(5)\n",
            "loading alphabet: orl(3)\n",
            "loading alphabet: orl(2)\n",
            "loading alphabet: mit(2)\n",
            "loading alphabet: orl(1)\n",
            "loading alphabet: fei(5)\n",
            "loading alphabet: mit(1)\n"
          ],
          "name": "stdout"
        }
      ]
    },
    {
      "cell_type": "code",
      "metadata": {
        "colab": {
          "base_uri": "https://localhost:8080/"
        },
        "id": "ZMzUj36XkFkH",
        "outputId": "56f283bc-f165-464d-95b1-d4f6717e1b6c"
      },
      "source": [
        "Xval,yval,cval=loadimgs(val_folder)\n",
        "\n",
        "with open(os.path.join(save_path,\"val.pickle\"), \"wb\") as f:\n",
        "    pickle.dump((Xval,cval),f)"
      ],
      "execution_count": 57,
      "outputs": [
        {
          "output_type": "stream",
          "text": [
            "loading alphabet: fei(1)\n",
            "loading alphabet: fei(2)\n",
            "loading alphabet: fei(4)\n",
            "loading alphabet: fei(3)\n"
          ],
          "name": "stdout"
        }
      ]
    },
    {
      "cell_type": "code",
      "metadata": {
        "colab": {
          "base_uri": "https://localhost:8080/"
        },
        "id": "tK14NIfGkIx5",
        "outputId": "0d84528a-e73b-40db-db8e-9a4d20f74892"
      },
      "source": [
        "def initialize_weights(shape, dtype=None):\n",
        "    \"\"\"\n",
        "        The paper, http://www.cs.utoronto.ca/~gkoch/files/msc-thesis.pdf\n",
        "        suggests to initialize CNN layer weights with mean as 0.0 and standard deviation of 0.01\n",
        "    \"\"\"\n",
        "    return np.random.normal(loc = 0.0, scale = 1e-2, size = shape)\n",
        "\n",
        "def initialize_bias(shape, dtype=None):\n",
        "    \"\"\"\n",
        "        The paper, http://www.cs.utoronto.ca/~gkoch/files/msc-thesis.pdf\n",
        "        suggests to initialize CNN layer bias with mean as 0.5 and standard deviation of 0.01\n",
        "    \"\"\"\n",
        "    return np.random.normal(loc = 0.5, scale = 1e-2, size = shape)\n",
        "\n",
        "def get_siamese_model(input_shape):\n",
        "    \"\"\"\n",
        "        Model architecture based on the one provided in: http://www.cs.utoronto.ca/~gkoch/files/msc-thesis.pdf\n",
        "    \"\"\"\n",
        "    \n",
        "    # Define the tensors for the two input images\n",
        "    left_input = Input(input_shape)\n",
        "    right_input = Input(input_shape)\n",
        "    \n",
        "    # Convolutional Neural Network\n",
        "    \n",
        "    model.add(Conv2D(64, (10,10), activation='relu', input_shape=input_shape,\n",
        "                   kernel_initializer=initialize_weights, kernel_regularizer=l2(2e-4)))\n",
        "    model.add(MaxPooling2D())\n",
        "    model.add(Conv2D(128, (7,7), activation='relu',\n",
        "                     kernel_initializer=initialize_weights,\n",
        "                     bias_initializer=initialize_bias, kernel_regularizer=l2(2e-4)))\n",
        "    model.add(MaxPooling2D())\n",
        "    model.add(Conv2D(128, (4,4), activation='relu', kernel_initializer=initialize_weights,\n",
        "                     bias_initializer=initialize_bias, kernel_regularizer=l2(2e-4)))\n",
        "    model.add(MaxPooling2D())\n",
        "    model.add(Conv2D(256, (4,4), activation='relu', kernel_initializer=initialize_weights,\n",
        "                     bias_initializer=initialize_bias, kernel_regularizer=l2(2e-4)))\n",
        "    model.add(Flatten())\n",
        "    model.add(Dense(4096, activation='sigmoid',\n",
        "                   kernel_regularizer=l2(1e-3),\n",
        "                   kernel_initializer=initialize_weights,bias_initializer=initialize_bias))\n",
        "    \n",
        "    # Generate the encodings (feature vectors) for the two images\n",
        "    encoded_l = model(left_input)\n",
        "    encoded_r = model(right_input)\n",
        "    \n",
        "    # Add a customized layer to compute the absolute difference between the encodings\n",
        "    L1_layer = Lambda(lambda tensors:K.abs(tensors[0] - tensors[1]))\n",
        "    L1_distance = L1_layer([encoded_l, encoded_r])\n",
        "    \n",
        "    # Add a dense layer with a sigmoid unit to generate the similarity score\n",
        "    prediction = Dense(1,activation='sigmoid',bias_initializer=initialize_bias)(L1_distance)\n",
        "    \n",
        "    # Connect the inputs with the outputs\n",
        "    siamese_net = Model(inputs=[left_input,right_input],outputs=prediction)\n",
        "    \n",
        "    # return the model\n",
        "    return siamese_net\n",
        "model = get_siamese_model((105, 105, 1))\n",
        "model.summary()"
      ],
      "execution_count": 58,
      "outputs": [
        {
          "output_type": "stream",
          "text": [
            "Model: \"model_8\"\n",
            "__________________________________________________________________________________________________\n",
            "Layer (type)                    Output Shape         Param #     Connected to                     \n",
            "==================================================================================================\n",
            "input_30 (InputLayer)           [(None, 105, 105, 1) 0                                            \n",
            "__________________________________________________________________________________________________\n",
            "input_31 (InputLayer)           [(None, 105, 105, 1) 0                                            \n",
            "__________________________________________________________________________________________________\n",
            "sequential_2 (Sequential)       (None, 4096)         38947648    input_30[0][0]                   \n",
            "                                                                 input_31[0][0]                   \n",
            "__________________________________________________________________________________________________\n",
            "lambda_8 (Lambda)               (None, 4096)         0           sequential_2[0][0]               \n",
            "                                                                 sequential_2[1][0]               \n",
            "__________________________________________________________________________________________________\n",
            "dense_11 (Dense)                (None, 1)            4097        lambda_8[0][0]                   \n",
            "==================================================================================================\n",
            "Total params: 38,951,745\n",
            "Trainable params: 38,951,745\n",
            "Non-trainable params: 0\n",
            "__________________________________________________________________________________________________\n"
          ],
          "name": "stdout"
        }
      ]
    },
    {
      "cell_type": "code",
      "metadata": {
        "colab": {
          "base_uri": "https://localhost:8080/"
        },
        "id": "C1ww6aS6kM_X",
        "outputId": "0dfd5516-22c0-45b0-8fb2-2efa5343a139"
      },
      "source": [
        "optimizer = Adam(lr = 0.00006)\n",
        "model.compile(loss=\"binary_crossentropy\",optimizer=optimizer)\n",
        "with open(os.path.join(save_path, \"train.pickle\"), \"rb\") as f:\n",
        "    (Xtrain, train_classes) = pickle.load(f)\n",
        "    \n",
        "print(\"Training alphabets: \\n\")\n",
        "print(list(train_classes.keys()))\n",
        "with open(os.path.join(save_path, \"val.pickle\"), \"rb\") as f:\n",
        "    (Xval, val_classes) = pickle.load(f)\n",
        "\n",
        "print(\"Validation alphabets:\", end=\"\\n\\n\")\n",
        "print(list(val_classes.keys()))"
      ],
      "execution_count": 59,
      "outputs": [
        {
          "output_type": "stream",
          "text": [
            "Training alphabets: \n",
            "\n",
            "['orl(6)', 'orl(7)', 'orl(4)', 'orl(5)', 'orl(3)', 'orl(2)', 'mit(2)', 'orl(1)', 'fei(5)', 'mit(1)']\n",
            "Validation alphabets:\n",
            "\n",
            "['fei(1)', 'fei(2)', 'fei(4)', 'fei(3)']\n"
          ],
          "name": "stdout"
        }
      ]
    },
    {
      "cell_type": "code",
      "metadata": {
        "colab": {
          "base_uri": "https://localhost:8080/"
        },
        "id": "jzTg1CaEhO8n",
        "outputId": "fb31d233-5d75-47e8-f5f8-d972058aa5fa"
      },
      "source": [
        "Xtrain.shape"
      ],
      "execution_count": 60,
      "outputs": [
        {
          "output_type": "execute_result",
          "data": {
            "text/plain": [
              "(55, 20, 105, 105)"
            ]
          },
          "metadata": {
            "tags": []
          },
          "execution_count": 60
        }
      ]
    },
    {
      "cell_type": "code",
      "metadata": {
        "id": "f_wCGeoXkS_q"
      },
      "source": [
        "def get_batch(batch_size,s=\"train\"):\n",
        "    \"\"\"Create batch of n pairs, half same class, half different class\"\"\"\n",
        "    if s == 'train':\n",
        "        X = Xtrain\n",
        "        categories = train_classes\n",
        "    else:\n",
        "        X = Xval\n",
        "        categories = val_classes\n",
        "    n_classes, n_examples, w, h = np.array(X).shape\n",
        "\n",
        "    # randomly sample several classes to use in the batch\n",
        "    categories = rng.choice(n_classes,size=(batch_size,),replace=False)\n",
        "    \n",
        "    # initialize 2 empty arrays for the input image batch\n",
        "    pairs=[np.zeros((batch_size, h, w,1)) for i in range(2)]\n",
        "    \n",
        "    # initialize vector for the targets\n",
        "    targets=np.zeros((batch_size,))\n",
        "    \n",
        "    # make one half of it '1's, so 2nd half of batch has same class\n",
        "    targets[batch_size//2:] = 1\n",
        "    for i in range(batch_size):\n",
        "        category = categories[i]\n",
        "        idx_1 = rng.randint(0, n_examples)\n",
        "        pairs[0][i,:,:,:] = X[category, idx_1].reshape(w, h, 1)\n",
        "        idx_2 = rng.randint(0, n_examples)\n",
        "        \n",
        "        # pick images of same class for 1st half, different for 2nd\n",
        "        if i >= batch_size // 2:\n",
        "            category_2 = category  \n",
        "        else: \n",
        "            # add a random number to the category modulo n classes to ensure 2nd image has a different category\n",
        "            category_2 = (category + rng.randint(1,n_classes)) % n_classes\n",
        "        \n",
        "        pairs[1][i,:,:,:] = X[category_2,idx_2].reshape(w, h,1)\n",
        "    \n",
        "    return pairs, targets\n",
        "\n",
        "\n",
        "def generate(batch_size, s=\"train\"):\n",
        "    \"\"\"a generator for batches, so model.fit_generator can be used. \"\"\"\n",
        "    while True:\n",
        "        pairs, targets = get_batch(batch_size,s)\n",
        "        yield (pairs, targets)\n",
        "def make_oneshot_task(N, s=\"val\", language=None):\n",
        "    \"\"\"Create pairs of test image, support set for testing N way one-shot learning. \"\"\"\n",
        "    if s == 'train':\n",
        "        X = Xtrain\n",
        "        categories = train_classes\n",
        "    else:\n",
        "        X = Xval\n",
        "        categories = val_classes\n",
        "    n_classes, n_examples, w, h = X.shape\n",
        "    \n",
        "    indices = rng.randint(0, n_examples,size=(N,))\n",
        "    if language is not None: # if language is specified, select characters for that language\n",
        "        low, high = categories[language]\n",
        "        if N > high - low:\n",
        "            raise ValueError(\"This language ({}) has less than {} letters\".format(language, N))\n",
        "        categories = rng.choice(range(low,high),size=(N,),replace=False)\n",
        "\n",
        "    else: # if no language specified just pick a bunch of random letters\n",
        "        categories = rng.choice(range(n_classes),size=(N,),replace=False)            \n",
        "    true_category = categories[0]\n",
        "    ex1, ex2 = rng.choice(n_examples,replace=False,size=(2,))\n",
        "    test_image = np.asarray([X[true_category,ex1,:,:]]*N).reshape(N, w, h,1)\n",
        "    support_set = X[categories,indices,:,:]\n",
        "    support_set[0,:,:] = X[true_category,ex2]\n",
        "    support_set = support_set.reshape(N, w, h,1)\n",
        "    targets = np.zeros((N,))\n",
        "    targets[0] = 1\n",
        "    targets, test_image, support_set = shuffle(targets, test_image, support_set)\n",
        "    pairs = [test_image,support_set]\n",
        "\n",
        "    return pairs, targets\n",
        "\n",
        "def test_oneshot(model, N, k, s = \"val\", verbose = 0):\n",
        "    \"\"\"Test average N way oneshot learning accuracy of a siamese neural net over k one-shot tasks\"\"\"\n",
        "    n_correct = 0\n",
        "    if verbose:\n",
        "        print(\"Evaluating model on {} random {} way one-shot learning tasks ... \\n\".format(k,N))\n",
        "    for i in range(k):\n",
        "        inputs, targets = make_oneshot_task(N,s)\n",
        "        probs = model.predict(inputs)\n",
        "        if np.argmax(probs) == np.argmax(targets):\n",
        "            n_correct+=1\n",
        "    percent_correct = (100.0 * n_correct / k)\n",
        "    if verbose:\n",
        "        print(\"Got an average of {}% {} way one-shot learning accuracy \\n\".format(percent_correct,N))\n",
        "    return percent_correct"
      ],
      "execution_count": 61,
      "outputs": []
    },
    {
      "cell_type": "code",
      "metadata": {
        "id": "yx2pB6nJkVDQ"
      },
      "source": [
        "# Hyper parameters\n",
        "evaluate_every = 200 # interval for evaluating on one-shot tasks\n",
        "batch_size = 10\n",
        "n_iter = 200 # No. of training iterations\n",
        "N_way = 20 # how many classes for testing one-shot tasks\n",
        "n_val = 250 # how many one-shot tasks to validate on\n",
        "best = -1"
      ],
      "execution_count": 62,
      "outputs": []
    },
    {
      "cell_type": "code",
      "metadata": {
        "id": "-OJdoIr6kV5J",
        "colab": {
          "base_uri": "https://localhost:8080/"
        },
        "outputId": "f3df7935-0435-41b7-c3af-92633374faf6"
      },
      "source": [
        "model_path = '/content/drive/MyDrive/omniglot/weights/'\n",
        "print(\"Starting training process!\")\n",
        "print(\"-------------------------------------\")\n",
        "t_start = time.time()\n",
        "for i in range(1, n_iter+1):\n",
        "    (inputs,targets) = get_batch(batch_size)\n",
        "    loss = model.train_on_batch(inputs, targets)\n",
        "    if i % evaluate_every == 0:\n",
        "        print(\"\\n ------------- \\n\")\n",
        "        print(\"Time for {0} iterations: {1} mins\".format(i, (time.time()-t_start)/60.0))\n",
        "        print(\"Train Loss: {0}\".format(loss)) \n",
        "        val_acc = test_oneshot(model, N_way, n_val, verbose=True)\n",
        "        model.save_weights('weight.h5')\n",
        "        if val_acc >= best:\n",
        "            print(\"Current best: {0}, previous best: {1}\".format(val_acc, best))\n",
        "            best = val_acc"
      ],
      "execution_count": 63,
      "outputs": [
        {
          "output_type": "stream",
          "text": [
            "Starting training process!\n",
            "-------------------------------------\n",
            "\n",
            " ------------- \n",
            "\n",
            "Time for 200 iterations: 0.19093987147013347 mins\n",
            "Train Loss: 2.1253814697265625\n",
            "Evaluating model on 250 random 20 way one-shot learning tasks ... \n",
            "\n",
            "Got an average of 90.0% 20 way one-shot learning accuracy \n",
            "\n",
            "Current best: 90.0, previous best: -1\n"
          ],
          "name": "stdout"
        }
      ]
    },
    {
      "cell_type": "code",
      "metadata": {
        "id": "hvJJvJJ0kbRG"
      },
      "source": [
        "model.load_weights(\"/content/weight.h5\")\n",
        "def nearest_neighbour_correct(pairs,targets):\n",
        "    \"\"\"returns 1 if nearest neighbour gets the correct answer for a one-shot task\n",
        "        given by (pairs, targets)\"\"\"\n",
        "    L2_distances = np.zeros_like(targets)\n",
        "    for i in range(len(targets)):\n",
        "        L2_distances[i] = np.sum(np.sqrt(pairs[0][i]**2 - pairs[1][i]**2))\n",
        "    if np.argmin(L2_distances) == np.argmax(targets):\n",
        "        return 1\n",
        "    return 0\n",
        "def test_nn_accuracy(N_ways,n_trials):\n",
        "    \"\"\"Returns accuracy of NN approach \"\"\"\n",
        "    print(\"Evaluating nearest neighbour on {} unique {} way one-shot learning tasks ...\".format(n_trials,N_ways))\n",
        "\n",
        "    n_right = 0\n",
        "    \n",
        "    for i in range(n_trials):\n",
        "        pairs,targets = make_oneshot_task(N_ways,\"val\")\n",
        "        correct = nearest_neighbour_correct(pairs,targets)\n",
        "        n_right += correct\n",
        "    return 100.0 * n_right / n_trials"
      ],
      "execution_count": 64,
      "outputs": []
    },
    {
      "cell_type": "code",
      "metadata": {
        "id": "yL0w8MO5kdSf",
        "colab": {
          "base_uri": "https://localhost:8080/"
        },
        "outputId": "f1cbf0e0-7d45-43d6-aff3-a038520c24db"
      },
      "source": [
        "ways = np.arange(1,20,2)\n",
        "resume =  False\n",
        "trials = 50\n",
        "\n",
        "val_accs, train_accs,nn_accs = [], [], []\n",
        "for N in ways:    \n",
        "    val_accs.append(test_oneshot(model, N, trials, \"val\", verbose=True))\n",
        "    train_accs.append(test_oneshot(model, N, trials, \"train\", verbose=True))\n",
        "    nn_acc = test_nn_accuracy(N, trials)\n",
        "    nn_accs.append(nn_acc)\n",
        "    print (\"NN Accuracy = \", nn_acc)\n",
        "    print(\"---------------------------------------------------------------------------------------------------------------\")"
      ],
      "execution_count": 65,
      "outputs": [
        {
          "output_type": "stream",
          "text": [
            "Evaluating model on 50 random 1 way one-shot learning tasks ... \n",
            "\n",
            "Got an average of 100.0% 1 way one-shot learning accuracy \n",
            "\n",
            "Evaluating model on 50 random 1 way one-shot learning tasks ... \n",
            "\n",
            "Got an average of 100.0% 1 way one-shot learning accuracy \n",
            "\n",
            "Evaluating nearest neighbour on 50 unique 1 way one-shot learning tasks ...\n",
            "NN Accuracy =  100.0\n",
            "---------------------------------------------------------------------------------------------------------------\n",
            "Evaluating model on 50 random 3 way one-shot learning tasks ... \n",
            "\n"
          ],
          "name": "stdout"
        },
        {
          "output_type": "stream",
          "text": [
            "/usr/local/lib/python3.7/dist-packages/numpy/core/fromnumeric.py:87: RuntimeWarning: overflow encountered in reduce\n",
            "  return ufunc.reduce(obj, axis, dtype, out, **passkwargs)\n"
          ],
          "name": "stderr"
        },
        {
          "output_type": "stream",
          "text": [
            "Got an average of 100.0% 3 way one-shot learning accuracy \n",
            "\n",
            "Evaluating model on 50 random 3 way one-shot learning tasks ... \n",
            "\n",
            "Got an average of 88.0% 3 way one-shot learning accuracy \n",
            "\n",
            "Evaluating nearest neighbour on 50 unique 3 way one-shot learning tasks ...\n",
            "NN Accuracy =  92.0\n",
            "---------------------------------------------------------------------------------------------------------------\n",
            "Evaluating model on 50 random 5 way one-shot learning tasks ... \n",
            "\n",
            "Got an average of 96.0% 5 way one-shot learning accuracy \n",
            "\n",
            "Evaluating model on 50 random 5 way one-shot learning tasks ... \n",
            "\n",
            "Got an average of 88.0% 5 way one-shot learning accuracy \n",
            "\n",
            "Evaluating nearest neighbour on 50 unique 5 way one-shot learning tasks ...\n",
            "NN Accuracy =  98.0\n",
            "---------------------------------------------------------------------------------------------------------------\n",
            "Evaluating model on 50 random 7 way one-shot learning tasks ... \n",
            "\n",
            "Got an average of 98.0% 7 way one-shot learning accuracy \n",
            "\n",
            "Evaluating model on 50 random 7 way one-shot learning tasks ... \n",
            "\n",
            "Got an average of 86.0% 7 way one-shot learning accuracy \n",
            "\n",
            "Evaluating nearest neighbour on 50 unique 7 way one-shot learning tasks ...\n",
            "NN Accuracy =  92.0\n",
            "---------------------------------------------------------------------------------------------------------------\n",
            "Evaluating model on 50 random 9 way one-shot learning tasks ... \n",
            "\n",
            "Got an average of 98.0% 9 way one-shot learning accuracy \n",
            "\n",
            "Evaluating model on 50 random 9 way one-shot learning tasks ... \n",
            "\n",
            "Got an average of 82.0% 9 way one-shot learning accuracy \n",
            "\n",
            "Evaluating nearest neighbour on 50 unique 9 way one-shot learning tasks ...\n",
            "NN Accuracy =  96.0\n",
            "---------------------------------------------------------------------------------------------------------------\n",
            "Evaluating model on 50 random 11 way one-shot learning tasks ... \n",
            "\n",
            "Got an average of 90.0% 11 way one-shot learning accuracy \n",
            "\n",
            "Evaluating model on 50 random 11 way one-shot learning tasks ... \n",
            "\n",
            "Got an average of 82.0% 11 way one-shot learning accuracy \n",
            "\n",
            "Evaluating nearest neighbour on 50 unique 11 way one-shot learning tasks ...\n",
            "NN Accuracy =  98.0\n",
            "---------------------------------------------------------------------------------------------------------------\n",
            "Evaluating model on 50 random 13 way one-shot learning tasks ... \n",
            "\n",
            "Got an average of 90.0% 13 way one-shot learning accuracy \n",
            "\n",
            "Evaluating model on 50 random 13 way one-shot learning tasks ... \n",
            "\n",
            "Got an average of 80.0% 13 way one-shot learning accuracy \n",
            "\n",
            "Evaluating nearest neighbour on 50 unique 13 way one-shot learning tasks ...\n",
            "NN Accuracy =  92.0\n",
            "---------------------------------------------------------------------------------------------------------------\n",
            "Evaluating model on 50 random 15 way one-shot learning tasks ... \n",
            "\n",
            "Got an average of 94.0% 15 way one-shot learning accuracy \n",
            "\n",
            "Evaluating model on 50 random 15 way one-shot learning tasks ... \n",
            "\n",
            "Got an average of 64.0% 15 way one-shot learning accuracy \n",
            "\n",
            "Evaluating nearest neighbour on 50 unique 15 way one-shot learning tasks ...\n",
            "NN Accuracy =  98.0\n",
            "---------------------------------------------------------------------------------------------------------------\n",
            "Evaluating model on 50 random 17 way one-shot learning tasks ... \n",
            "\n",
            "Got an average of 94.0% 17 way one-shot learning accuracy \n",
            "\n",
            "Evaluating model on 50 random 17 way one-shot learning tasks ... \n",
            "\n",
            "Got an average of 68.0% 17 way one-shot learning accuracy \n",
            "\n",
            "Evaluating nearest neighbour on 50 unique 17 way one-shot learning tasks ...\n",
            "NN Accuracy =  90.0\n",
            "---------------------------------------------------------------------------------------------------------------\n",
            "Evaluating model on 50 random 19 way one-shot learning tasks ... \n",
            "\n",
            "Got an average of 94.0% 19 way one-shot learning accuracy \n",
            "\n",
            "Evaluating model on 50 random 19 way one-shot learning tasks ... \n",
            "\n",
            "Got an average of 68.0% 19 way one-shot learning accuracy \n",
            "\n",
            "Evaluating nearest neighbour on 50 unique 19 way one-shot learning tasks ...\n",
            "NN Accuracy =  90.0\n",
            "---------------------------------------------------------------------------------------------------------------\n"
          ],
          "name": "stdout"
        }
      ]
    },
    {
      "cell_type": "code",
      "metadata": {
        "id": "OZG7Phq8kjCW",
        "colab": {
          "base_uri": "https://localhost:8080/",
          "height": 641
        },
        "outputId": "841dbe3e-3ab9-4691-8c8b-556888ad024a"
      },
      "source": [
        "with open(os.path.join(save_path,\"accuracies.pickle\"), \"wb\") as f:\n",
        "    pickle.dump((val_accs,train_accs,nn_accs),f)\n",
        "with open(os.path.join(save_path, \"accuracies.pickle\"), \"rb\") as f:\n",
        "    (val_accs, train_accs, nn_accs) = pickle.load(f)\n",
        "\n",
        "def concat_images(X):\n",
        "    \"\"\"Concatenates a bunch of images into a big matrix for plotting purposes.\"\"\"\n",
        "    nc, h , w, _ = X.shape\n",
        "    X = X.reshape(nc, h, w)\n",
        "    n = np.ceil(np.sqrt(nc)).astype(\"int8\")\n",
        "    img = np.zeros((n*w,n*h))\n",
        "    x = 0\n",
        "    y = 0\n",
        "    for example in range(nc):\n",
        "        img[x*w:(x+1)*w,y*h:(y+1)*h] = X[example]\n",
        "        y += 1\n",
        "        if y >= n:\n",
        "            y = 0\n",
        "            x += 1\n",
        "    return img\n",
        "\n",
        "\n",
        "def plot_oneshot_task(pairs):\n",
        "    fig,(ax1,ax2) = plt.subplots(nrows=1, ncols=2)\n",
        "    ax1.matshow(pairs[0][0].reshape(105,105), cmap='gray')\n",
        "    img = concat_images(pairs[1])\n",
        "    ax1.get_yaxis().set_visible(False)\n",
        "    ax1.get_xaxis().set_visible(False)\n",
        "    ax2.matshow(img,cmap='gray')\n",
        "    plt.xticks([])\n",
        "    plt.yticks([])\n",
        "    plt.show()\n",
        "    # Example of concat image visualization\n",
        "pairs, targets = make_oneshot_task(1,\"train\",\"orl(7)\")\n",
        "plot_oneshot_task(pairs)\n",
        "\n",
        "fig,ax = plt.subplots(1)\n",
        "ax.plot(ways, val_accs, \"m\", label=\"Siamese(val set)\")\n",
        "ax.plot(ways, train_accs, \"y\", label=\"Siamese(train set)\")\n",
        "plt.plot(ways, nn_accs, label=\"Nearest neighbour\")\n",
        "\n",
        "ax.plot(ways, 100.0/ways, \"g\", label=\"Random guessing\")\n",
        "plt.xlabel(\"Number of possible classes in one-shot tasks\")\n",
        "plt.ylabel(\"% Accuracy\")\n",
        "plt.title(\"Omiglot One-Shot Learning Performance of a Siamese Network\")\n",
        "box = ax.get_position()\n",
        "ax.set_position([box.x0, box.y0, box.width * 0.8, box.height])\n",
        "ax.legend(loc='center left', bbox_to_anchor=(1, 0.5))\n",
        "inputs,targets = make_oneshot_task(4, \"val\", 'fei(3)')\n",
        "plt.show()\n",
        "\n",
        "plot_oneshot_task(inputs)"
      ],
      "execution_count": 66,
      "outputs": [
        {
          "output_type": "display_data",
          "data": {
            "image/png": "[encoded data removed]",
            "text/plain": [
              "<Figure size 432x288 with 2 Axes>"
            ]
          },
          "metadata": {
            "tags": [],
            "needs_background": "light"
          }
        },
        {
          "output_type": "display_data",
          "data": {
            "image/png": "[encoded data removed]",
            "text/plain": [
              "<Figure size 432x288 with 1 Axes>"
            ]
          },
          "metadata": {
            "tags": [],
            "needs_background": "light"
          }
        },
        {
          "output_type": "display_data",
          "data": {
            "image/png": "[encoded data removed]",
            "text/plain": [
              "<Figure size 432x288 with 2 Axes>"
            ]
          },
          "metadata": {
            "tags": [],
            "needs_background": "light"
          }
        }
      ]
    },
    {
      "cell_type": "markdown",
      "metadata": {
        "id": "LEhKcLaTlA_B"
      },
      "source": [
        "### ***N-way N-shot Learning***\n"
      ]
    },
    {
      "cell_type": "code",
      "metadata": {
        "id": "QtHDok56jqvq"
      },
      "source": [
        "############################################3few shot\n",
        "import numpy as np\n",
        "import matplotlib.pyplot as plt\n",
        "from scipy import ndimage\n",
        "import multiprocessing as mp\n",
        "import os\n",
        "import cv2\n",
        "\n",
        "import torch\n",
        "import torch.nn as nn\n",
        "import torchvision\n",
        "import torch.nn.functional as F\n",
        "import torch.optim as optim\n",
        "from torch.autograd import Variable"
      ],
      "execution_count": 67,
      "outputs": []
    },
    {
      "cell_type": "code",
      "metadata": {
        "colab": {
          "base_uri": "https://localhost:8080/"
        },
        "id": "9__8gNPbjsQ4",
        "outputId": "a3265cf3-4b6e-47ed-84a0-4c3b3f66986d"
      },
      "source": [
        "#Check GPU support, please do activate GPU\n",
        "print(torch.cuda.is_available())"
      ],
      "execution_count": 68,
      "outputs": [
        {
          "output_type": "stream",
          "text": [
            "True\n"
          ],
          "name": "stdout"
        }
      ]
    },
    {
      "cell_type": "code",
      "metadata": {
        "id": "T6dMXcAqjtp7"
      },
      "source": [
        "def read_alphabets(alphabet_directory_path, alphabet_directory_name):\n",
        "    \"\"\"\n",
        "    Reads all the characters from a given alphabet_directory\n",
        "    \"\"\"\n",
        "    datax = []\n",
        "    datay = []\n",
        "    characters = os.listdir(alphabet_directory_path)\n",
        "    for character in characters:\n",
        "        images = os.listdir(alphabet_directory_path + character + '/')\n",
        "        for img in images:\n",
        "            image = cv2.resize(\n",
        "                cv2.imread(alphabet_directory_path + character + '/' + img),\n",
        "                (28,28)\n",
        "                )\n",
        "            #rotations of image\n",
        "            rotated_90 = ndimage.rotate(image, 90)\n",
        "            rotated_180 = ndimage.rotate(image, 180)\n",
        "            rotated_270 = ndimage.rotate(image, 270)\n",
        "            datax.extend((image, rotated_90, rotated_180, rotated_270))\n",
        "            datay.extend((\n",
        "                alphabet_directory_name + '_' + character + '_0',\n",
        "                alphabet_directory_name + '_' + character + '_90',\n",
        "                alphabet_directory_name + '_' + character + '_180',\n",
        "                alphabet_directory_name + '_' + character + '_270'\n",
        "            ))\n",
        "    return np.array(datax), np.array(datay)\n",
        "\n",
        "def read_images(base_directory):\n",
        "    \"\"\"\n",
        "    Reads all the alphabets from the base_directory\n",
        "    Uses multithreading to decrease the reading time drastically\n",
        "    \"\"\"\n",
        "    datax = None\n",
        "    datay = None\n",
        "    pool = mp.Pool(mp.cpu_count())\n",
        "    results = [pool.apply(read_alphabets,\n",
        "                          args=(\n",
        "                              base_directory + '/' + directory + '/', directory, \n",
        "                              )) for directory in os.listdir(base_directory)]\n",
        "    pool.close()\n",
        "    for result in results:\n",
        "        if datax is None:\n",
        "            datax = result[0]\n",
        "            datay = result[1]\n",
        "        else:\n",
        "            datax = np.vstack([datax, result[0]])\n",
        "            datay = np.concatenate([datay, result[1]])\n",
        "    return datax, datay"
      ],
      "execution_count": 69,
      "outputs": []
    },
    {
      "cell_type": "code",
      "metadata": {
        "colab": {
          "base_uri": "https://localhost:8080/",
          "height": 297
        },
        "id": "m0JKtYITjxXA",
        "outputId": "3d8f1a64-7cb5-4cc0-df86-cd7d116f50b4"
      },
      "source": [
        "%%time \n",
        "trainx, trainy = read_images('/content/drive/MyDrive/Project(1)/omniglot/develop')\n",
        "plt.imshow(trainx[6])"
      ],
      "execution_count": 70,
      "outputs": [
        {
          "output_type": "stream",
          "text": [
            "CPU times: user 44.6 ms, sys: 112 ms, total: 157 ms\n",
            "Wall time: 4.46 s\n"
          ],
          "name": "stdout"
        },
        {
          "output_type": "display_data",
          "data": {
            "image/png": "[encoded data removed]",
            "text/plain": [
              "<Figure size 432x288 with 1 Axes>"
            ]
          },
          "metadata": {
            "tags": [],
            "needs_background": "light"
          }
        }
      ]
    },
    {
      "cell_type": "code",
      "metadata": {
        "colab": {
          "base_uri": "https://localhost:8080/"
        },
        "id": "rhQvFyNDj0fp",
        "outputId": "dc508d55-be51-4842-c4a8-50447bfed3d4"
      },
      "source": [
        "%%time \n",
        "testx, testy = read_images('/content/drive/MyDrive/Project(1)/omniglot/evaluate/')"
      ],
      "execution_count": 71,
      "outputs": [
        {
          "output_type": "stream",
          "text": [
            "CPU times: user 16.4 ms, sys: 80.2 ms, total: 96.7 ms\n",
            "Wall time: 2.04 s\n"
          ],
          "name": "stdout"
        }
      ]
    },
    {
      "cell_type": "code",
      "metadata": {
        "colab": {
          "base_uri": "https://localhost:8080/"
        },
        "id": "6IdC_R5Sj3cZ",
        "outputId": "3afbc60a-a749-4bde-df44-b0df52e999a8"
      },
      "source": [
        "trainx =trainx/255.0\n",
        "testx=testx/255.0\n",
        "trainx.shape, trainy.shape, testx.shape, testy.shape"
      ],
      "execution_count": 72,
      "outputs": [
        {
          "output_type": "execute_result",
          "data": {
            "text/plain": [
              "((4400, 28, 28, 3), (4400,), (1920, 28, 28, 3), (1920,))"
            ]
          },
          "metadata": {
            "tags": []
          },
          "execution_count": 72
        }
      ]
    },
    {
      "cell_type": "code",
      "metadata": {
        "id": "Jntxd1M-j48n"
      },
      "source": [
        "def extract_sample(n_way, n_support, n_query, datax, datay):\n",
        "  \"\"\"\n",
        "  Picks random sample of size n_support+n_querry, for n_way classes\n",
        "  Args:\n",
        "      n_way (int): number of classes in a classification task\n",
        "      n_support (int): number of labeled examples per class in the support set\n",
        "      n_query (int): number of labeled examples per class in the query set\n",
        "      datax (np.array): dataset of images\n",
        "      datay (np.array): dataset of labels\n",
        "  Returns:\n",
        "      (dict) of:\n",
        "        (torch.Tensor): sample of images. Size (n_way, n_support+n_query, (dim))\n",
        "        (int): n_way\n",
        "        (int): n_support\n",
        "        (int): n_query\n",
        "  \"\"\"\n",
        "  sample = []\n",
        "  K = np.random.choice(np.unique(datay), n_way, replace=False)\n",
        "  for cls in K:\n",
        "    datax_cls = datax[datay == cls]\n",
        "    perm = np.random.permutation(datax_cls)\n",
        "    sample_cls = perm[:(n_support+n_query)]\n",
        "    sample.append(sample_cls)\n",
        "  sample = np.array(sample)\n",
        "  sample = torch.from_numpy(sample).float()\n",
        "  sample = sample.permute(0,1,4,2,3)\n",
        "  return({\n",
        "      'images': sample,\n",
        "      'n_way': n_way,\n",
        "      'n_support': n_support,\n",
        "      'n_query': n_query\n",
        "      })\n",
        "  \n",
        "def display_sample(sample):\n",
        "  \"\"\"\n",
        "  Displays sample in a grid\n",
        "  Args:\n",
        "      sample (torch.Tensor): sample of images to display\n",
        "  \"\"\"\n",
        "  #need 4D tensor to create grid, currently 5D\n",
        "  sample_4D = sample.view(sample.shape[0]*sample.shape[1],*sample.shape[2:])\n",
        "  #make a grid\n",
        "  out = torchvision.utils.make_grid(sample_4D, nrow=sample.shape[1])\n",
        "  plt.figure(figsize = (16,7))\n",
        "  plt.imshow(out.permute(1, 2, 0))"
      ],
      "execution_count": 73,
      "outputs": []
    },
    {
      "cell_type": "code",
      "metadata": {
        "colab": {
          "base_uri": "https://localhost:8080/",
          "height": 432
        },
        "id": "ttTK7gzzj62M",
        "outputId": "1ba49bcb-7129-4628-e800-813300534828"
      },
      "source": [
        "'''As an example, let's pick a sample and display it\n",
        "\n",
        "n_way = 8\n",
        "n_support = 5\n",
        "n_query = 5'''\n",
        "sample_example = extract_sample(8, 5, 5, trainx, trainy)\n",
        "display_sample(sample_example['images'])"
      ],
      "execution_count": 74,
      "outputs": [
        {
          "output_type": "display_data",
          "data": {
            "image/png": "[encoded data removed]",
            "text/plain": [
              "<Figure size 1152x504 with 1 Axes>"
            ]
          },
          "metadata": {
            "tags": [],
            "needs_background": "light"
          }
        }
      ]
    },
    {
      "cell_type": "code",
      "metadata": {
        "colab": {
          "base_uri": "https://localhost:8080/"
        },
        "id": "EoGnXOWAj8B-",
        "outputId": "23c08750-871c-4a9c-adb8-03afe7b48b99"
      },
      "source": [
        "\n",
        "sample_example['images'].shape"
      ],
      "execution_count": 75,
      "outputs": [
        {
          "output_type": "execute_result",
          "data": {
            "text/plain": [
              "torch.Size([8, 10, 3, 28, 28])"
            ]
          },
          "metadata": {
            "tags": []
          },
          "execution_count": 75
        }
      ]
    },
    {
      "cell_type": "code",
      "metadata": {
        "id": "Y-CKDKlvkADP"
      },
      "source": [
        "class Flatten(nn.Module):\n",
        "  def __init__(self):\n",
        "    super(Flatten, self).__init__()\n",
        "\n",
        "  def forward(self, x):\n",
        "    return x.view(x.size(0), -1)\n",
        "\n",
        "def load_protonet_conv(**kwargs):\n",
        "  \"\"\"\n",
        "  Loads the prototypical network model\n",
        "  Arg:\n",
        "      x_dim (tuple): dimension of input image\n",
        "      hid_dim (int): dimension of hidden layers in conv blocks\n",
        "      z_dim (int): dimension of embedded image\n",
        "  Returns:\n",
        "      Model (Class ProtoNet)\n",
        "  \"\"\"\n",
        "  x_dim = kwargs['x_dim']\n",
        "  hid_dim = kwargs['hid_dim']\n",
        "  z_dim = kwargs['z_dim']\n",
        "\n",
        "  def conv_block(in_channels, out_channels):\n",
        "    return nn.Sequential(\n",
        "        nn.Conv2d(in_channels, out_channels, 3, padding=1),\n",
        "        nn.BatchNorm2d(out_channels),\n",
        "        nn.ReLU(),\n",
        "        nn.MaxPool2d(2)\n",
        "        )\n",
        "    \n",
        "  encoder = nn.Sequential(\n",
        "    conv_block(x_dim[0], hid_dim),\n",
        "    conv_block(hid_dim, hid_dim),\n",
        "    conv_block(hid_dim, hid_dim),\n",
        "    conv_block(hid_dim, z_dim),\n",
        "    Flatten()\n",
        "    )\n",
        "    \n",
        "  return ProtoNet(encoder)"
      ],
      "execution_count": 76,
      "outputs": []
    },
    {
      "cell_type": "code",
      "metadata": {
        "id": "3QfcojoJkCUJ"
      },
      "source": [
        "class ProtoNet(nn.Module):\n",
        "  def __init__(self, encoder):\n",
        "    \"\"\"\n",
        "    Args:\n",
        "        encoder : CNN encoding the images in sample\n",
        "        n_way (int): number of classes in a classification task\n",
        "        n_support (int): number of labeled examples per class in the support set\n",
        "        n_query (int): number of labeled examples per class in the query set\n",
        "    \"\"\"\n",
        "    super(ProtoNet, self).__init__()\n",
        "    self.encoder = encoder.cuda()\n",
        "\n",
        "  def set_forward_loss(self, sample):\n",
        "    \"\"\"\n",
        "    Computes loss, accuracy and output for classification task\n",
        "    Args:\n",
        "        sample (torch.Tensor): shape (n_way, n_support+n_query, (dim)) \n",
        "    Returns:\n",
        "        torch.Tensor: shape(2), loss, accuracy and y_hat\n",
        "    \"\"\"\n",
        "    sample_images = sample['images'].cuda()\n",
        "    n_way = sample['n_way']\n",
        "    n_support = sample['n_support']\n",
        "    n_query = sample['n_query']\n",
        "\n",
        "    x_support = sample_images[:, :n_support]\n",
        "    x_query = sample_images[:, n_support:]\n",
        "   \n",
        "    #target indices are 0 ... n_way-1\n",
        "    target_inds = torch.arange(0, n_way).view(n_way, 1, 1).expand(n_way, n_query, 1).long()\n",
        "    target_inds = Variable(target_inds, requires_grad=False)\n",
        "    target_inds = target_inds.cuda()\n",
        "   \n",
        "    #encode images of the support and the query set\n",
        "    x = torch.cat([x_support.contiguous().view(n_way * n_support, *x_support.size()[2:]),\n",
        "                   x_query.contiguous().view(n_way * n_query, *x_query.size()[2:])], 0)\n",
        "   \n",
        "    z = self.encoder.forward(x)\n",
        "    z_dim = z.size(-1) #usually 64\n",
        "    z_proto = z[:n_way*n_support].view(n_way, n_support, z_dim).mean(1)\n",
        "    z_query = z[n_way*n_support:]\n",
        "\n",
        "    #compute distances\n",
        "    dists = euclidean_dist(z_query, z_proto)\n",
        "    \n",
        "    #compute probabilities\n",
        "    log_p_y = F.log_softmax(-dists, dim=1).view(n_way, n_query, -1)\n",
        "   \n",
        "    loss_val = -log_p_y.gather(2, target_inds).squeeze().view(-1).mean()\n",
        "    _, y_hat = log_p_y.max(2)\n",
        "    acc_val = torch.eq(y_hat, target_inds.squeeze()).float().mean()\n",
        "   \n",
        "    return loss_val, {\n",
        "        'loss': loss_val.item(),\n",
        "        'acc': acc_val.item(),\n",
        "        'y_hat': y_hat\n",
        "        }\n",
        "def euclidean_dist(x, y):\n",
        "  \"\"\"\n",
        "  Computes euclidean distance btw x and y\n",
        "  Args:\n",
        "      x (torch.Tensor): shape (n, d). n usually n_way*n_query\n",
        "      y (torch.Tensor): shape (m, d). m usually n_way\n",
        "  Returns:\n",
        "      torch.Tensor: shape(n, m). For each query, the distances to each centroid\n",
        "  \"\"\"\n",
        "  n = x.size(0)\n",
        "  m = y.size(0)\n",
        "  d = x.size(1)\n",
        "  assert d == y.size(1)\n",
        "\n",
        "  x = x.unsqueeze(1).expand(n, m, d)\n",
        "  y = y.unsqueeze(0).expand(n, m, d)\n",
        "\n",
        "  return torch.pow(x - y, 2).sum(2)\n",
        "\n",
        "from tqdm import tqdm_notebook\n",
        "from tqdm import tnrange\n",
        "def train(model, optimizer, train_x, train_y, n_way, n_support, n_query, max_epoch, epoch_size):\n",
        "  \"\"\"\n",
        "  Trains the protonet\n",
        "  Args:\n",
        "      model\n",
        "      optimizer\n",
        "      train_x (np.array): images of training set\n",
        "      train_y(np.array): labels of training set\n",
        "      n_way (int): number of classes in a classification task\n",
        "      n_support (int): number of labeled examples per class in the support set\n",
        "      n_query (int): number of labeled examples per class in the query set\n",
        "      max_epoch (int): max epochs to train on\n",
        "      epoch_size (int): episodes per epoch\n",
        "  \"\"\"\n",
        "  #divide the learning rate by 2 at each epoch, as suggested in paper\n",
        "  scheduler = optim.lr_scheduler.StepLR(optimizer, 1, gamma=0.5, last_epoch=-1)\n",
        "  epoch = 0 #epochs done so far\n",
        "  stop = False #status to know when to stop\n",
        "\n",
        "  while epoch < max_epoch and not stop:\n",
        "    running_loss = 0.0\n",
        "    running_acc = 0.0\n",
        "\n",
        "    for episode in tnrange(epoch_size, desc=\"Epoch {:d} train\".format(epoch+1)):\n",
        "      sample = extract_sample(n_way, n_support, n_query, train_x, train_y)\n",
        "      optimizer.zero_grad()\n",
        "      loss, output = model.set_forward_loss(sample)\n",
        "      running_loss += output['loss']\n",
        "      running_acc += output['acc']\n",
        "      loss.backward()\n",
        "      optimizer.step()\n",
        "    epoch_loss = running_loss / epoch_size\n",
        "    epoch_acc = running_acc / epoch_size\n",
        "    print('Epoch {:d} -- Loss: {:.4f} Acc: {:.4f}'.format(epoch+1,epoch_loss, epoch_acc))\n",
        "    epoch += 1\n",
        "    scheduler.step()\n"
      ],
      "execution_count": 77,
      "outputs": []
    },
    {
      "cell_type": "code",
      "metadata": {
        "colab": {
          "base_uri": "https://localhost:8080/",
          "height": 278,
          "referenced_widgets": [
            "5f64e2a2f4a34af89e49e0390b9cc0fb",
            "9f380a7ded254bb186fa31f92b06c9b9",
            "0ea838b300aa4ee299393851e1dcb893",
            "f8b86b275b9f477aa36e379d349dec41",
            "af102eb05118495aa8947fc2f725b083",
            "c814aab89cc849568e6c631a80d49965",
            "c54597f2cbcf42ada4911303eb09e6f5",
            "3baaf71d0e1140cfaf890ad6dc0ed44c",
            "2ad554ec32a34af393cd60eaafde7d4b",
            "dca77cd9739c407da1352b407ea6de20",
            "725aa2a02e9a43e4bf8289e5ad1ccea7",
            "91a4b2adab074569af52b3e157cf3cd6",
            "d392967e76aa482ebfb964412aeaacde",
            "9c2a3d523caf40a7990d924b20d5ced2",
            "59a7486668954e8eace9308798c86a3f",
            "1323097e7fb044c39a0124e430fd631a",
            "b1d2b87d764f46a29b0090bbbca0ea4e",
            "054c18427f62431dbbe7119f7be11b48",
            "251784e9f9744d13a8d7827ff9769420",
            "46e1937c41284412abe464962a9904d2",
            "bac6e96081ae4ac3bf938c1839613045",
            "c5fbe41ffacb49a9b80683a31d538625",
            "568098cdd52145a6bbc27768bc2128e6",
            "97c100bed7e24ed88f2dae1b303f69db",
            "e5a9c27d077044599fa774f6dee4f61c",
            "14ca51803e1d4ec2b42ed18038e7b733",
            "4e9bca7d61dc468b836e57eda55bf3ea",
            "7483c539bf3445d9aaea6a1fe2a2b66b",
            "56e395da0fac433a8b553086f8b1d30d",
            "21377bf77bab454dac941e602d276baf",
            "a633e31b1dae4e578e50c1ab28d9116e",
            "6cbd08abada742f3be578305d7990cd7"
          ]
        },
        "id": "Z-_EdMigkI4F",
        "outputId": "fa879c82-91c5-4c6a-e9cc-bfd449d7e88b"
      },
      "source": [
        "%%time\n",
        "\n",
        "model = load_protonet_conv(\n",
        "    x_dim=(3,28,28),\n",
        "    hid_dim=64,\n",
        "    z_dim=64,\n",
        "    )\n",
        "\n",
        "optimizer = optim.Adam(model.parameters(), lr = 0.001)\n",
        "\n",
        "n_way = 60\n",
        "n_support = 5\n",
        "n_query = 5\n",
        "\n",
        "train_x = trainx\n",
        "train_y = trainy\n",
        "\n",
        "max_epoch = 5\n",
        "epoch_size = 2000\n",
        "\n",
        "train(model, optimizer, train_x, train_y, n_way, n_support, n_query, max_epoch, epoch_size)"
      ],
      "execution_count": null,
      "outputs": [
        {
          "output_type": "stream",
          "text": [
            "/usr/local/lib/python3.7/dist-packages/ipykernel_launcher.py:102: TqdmDeprecationWarning: Please use `tqdm.notebook.trange` instead of `tqdm.tnrange`\n"
          ],
          "name": "stderr"
        },
        {
          "output_type": "display_data",
          "data": {
            "application/vnd.jupyter.widget-view+json": {
              "model_id": "5f64e2a2f4a34af89e49e0390b9cc0fb",
              "version_minor": 0,
              "version_major": 2
            },
            "text/plain": [
              "HBox(children=(FloatProgress(value=0.0, description='Epoch 1 train', max=2000.0, style=ProgressStyle(descripti…"
            ]
          },
          "metadata": {
            "tags": []
          }
        },
        {
          "output_type": "stream",
          "text": [
            "\n",
            "Epoch 1 -- Loss: 0.0050 Acc: 0.9987\n"
          ],
          "name": "stdout"
        },
        {
          "output_type": "display_data",
          "data": {
            "application/vnd.jupyter.widget-view+json": {
              "model_id": "2ad554ec32a34af393cd60eaafde7d4b",
              "version_minor": 0,
              "version_major": 2
            },
            "text/plain": [
              "HBox(children=(FloatProgress(value=0.0, description='Epoch 2 train', max=2000.0, style=ProgressStyle(descripti…"
            ]
          },
          "metadata": {
            "tags": []
          }
        },
        {
          "output_type": "stream",
          "text": [
            "\n",
            "Epoch 2 -- Loss: 0.0001 Acc: 1.0000\n"
          ],
          "name": "stdout"
        },
        {
          "output_type": "display_data",
          "data": {
            "application/vnd.jupyter.widget-view+json": {
              "model_id": "b1d2b87d764f46a29b0090bbbca0ea4e",
              "version_minor": 0,
              "version_major": 2
            },
            "text/plain": [
              "HBox(children=(FloatProgress(value=0.0, description='Epoch 3 train', max=2000.0, style=ProgressStyle(descripti…"
            ]
          },
          "metadata": {
            "tags": []
          }
        },
        {
          "output_type": "stream",
          "text": [
            "\n",
            "Epoch 3 -- Loss: 0.0000 Acc: 1.0000\n"
          ],
          "name": "stdout"
        },
        {
          "output_type": "display_data",
          "data": {
            "application/vnd.jupyter.widget-view+json": {
              "model_id": "e5a9c27d077044599fa774f6dee4f61c",
              "version_minor": 0,
              "version_major": 2
            },
            "text/plain": [
              "HBox(children=(FloatProgress(value=0.0, description='Epoch 4 train', max=2000.0, style=ProgressStyle(descripti…"
            ]
          },
          "metadata": {
            "tags": []
          }
        }
      ]
    },
    {
      "cell_type": "code",
      "metadata": {
        "id": "6Mt6of3MkLFl"
      },
      "source": [
        "def test(model, test_x, test_y, n_way, n_support, n_query, test_episode):\n",
        "  \"\"\"\n",
        "  Tests the protonet\n",
        "  Args:\n",
        "      model: trained model\n",
        "      test_x (np.array): images of testing set\n",
        "      test_y (np.array): labels of testing set\n",
        "      n_way (int): number of classes in a classification task\n",
        "      n_support (int): number of labeled examples per class in the support set\n",
        "      n_query (int): number of labeled examples per class in the query set\n",
        "      test_episode (int): number of episodes to test on\n",
        "  \"\"\"\n",
        "  running_loss = 0.0\n",
        "  running_acc = 0.0\n",
        "  for episode in tnrange(test_episode):\n",
        "    sample = extract_sample(n_way, n_support, n_query, test_x, test_y)\n",
        "    loss, output = model.set_forward_loss(sample)\n",
        "    running_loss += output['loss']\n",
        "    running_acc += output['acc']\n",
        "  avg_loss = running_loss / test_episode\n",
        "  avg_acc = running_acc / test_episode\n",
        "  print('Test results -- Loss: {:.4f} Acc: {:.4f}'.format(avg_loss, avg_acc))"
      ],
      "execution_count": null,
      "outputs": []
    },
    {
      "cell_type": "code",
      "metadata": {
        "id": "2e4dClGekOEo"
      },
      "source": [
        "n_way = 5\n",
        "n_support = 5\n",
        "n_query = 5\n",
        "\n",
        "test_x = testx\n",
        "test_y = testy\n",
        "\n",
        "test_episode = 1000\n",
        "\n",
        "test(model, test_x, test_y, n_way, n_support, n_query, test_episode)\n",
        "my_sample = extract_sample(n_way, n_support, n_query, test_x, test_y)\n",
        "display_sample(my_sample['images'])\n",
        "my_loss, my_output = model.set_forward_loss(my_sample)\n",
        "\n",
        "my_output"
      ],
      "execution_count": null,
      "outputs": []
    }
  ]
}